{
 "cells": [
  {
   "cell_type": "markdown",
   "id": "0a6f6c80",
   "metadata": {},
   "source": [
    "# Case Study on Testing of Hypothesis"
   ]
  },
  {
   "cell_type": "markdown",
   "id": "a3e06e67",
   "metadata": {},
   "source": [
    "A company started to invest in digital marketing as a new way of their product\n",
    "promotions.For that they collected data and decided to carry out a study on it.    \n",
    "● The company wishes to clarify whether there is any increase in sales after\n",
    "stepping into digital marketing.       \n",
    "● The company needs to check whether there is any dependency between the\n",
    "features “Region” and “Manager”.\n",
    "Help the company to carry out their study with the help of data provided.\n"
   ]
  },
  {
   "cell_type": "code",
   "execution_count": 1,
   "id": "088e8ee9",
   "metadata": {},
   "outputs": [],
   "source": [
    "import pandas as pd\n",
    "import numpy as np\n",
    "import statistics\n",
    "import matplotlib.pyplot as plt\n",
    "import seaborn as sns"
   ]
  },
  {
   "cell_type": "code",
   "execution_count": 2,
   "id": "92587116",
   "metadata": {
    "scrolled": true
   },
   "outputs": [
    {
     "data": {
      "text/html": [
       "<div>\n",
       "<style scoped>\n",
       "    .dataframe tbody tr th:only-of-type {\n",
       "        vertical-align: middle;\n",
       "    }\n",
       "\n",
       "    .dataframe tbody tr th {\n",
       "        vertical-align: top;\n",
       "    }\n",
       "\n",
       "    .dataframe thead th {\n",
       "        text-align: right;\n",
       "    }\n",
       "</style>\n",
       "<table border=\"1\" class=\"dataframe\">\n",
       "  <thead>\n",
       "    <tr style=\"text-align: right;\">\n",
       "      <th></th>\n",
       "      <th>Month</th>\n",
       "      <th>Region</th>\n",
       "      <th>Manager</th>\n",
       "      <th>Sales_before_digital_add(in $)</th>\n",
       "      <th>Sales_After_digital_add(in $)</th>\n",
       "    </tr>\n",
       "  </thead>\n",
       "  <tbody>\n",
       "    <tr>\n",
       "      <th>0</th>\n",
       "      <td>Month-1</td>\n",
       "      <td>Region - A</td>\n",
       "      <td>Manager - A</td>\n",
       "      <td>132921</td>\n",
       "      <td>270390</td>\n",
       "    </tr>\n",
       "    <tr>\n",
       "      <th>1</th>\n",
       "      <td>Month-2</td>\n",
       "      <td>Region - A</td>\n",
       "      <td>Manager - C</td>\n",
       "      <td>149559</td>\n",
       "      <td>223334</td>\n",
       "    </tr>\n",
       "    <tr>\n",
       "      <th>2</th>\n",
       "      <td>Month-3</td>\n",
       "      <td>Region - B</td>\n",
       "      <td>Manager - A</td>\n",
       "      <td>146278</td>\n",
       "      <td>244243</td>\n",
       "    </tr>\n",
       "    <tr>\n",
       "      <th>3</th>\n",
       "      <td>Month-4</td>\n",
       "      <td>Region - B</td>\n",
       "      <td>Manager - B</td>\n",
       "      <td>152167</td>\n",
       "      <td>231808</td>\n",
       "    </tr>\n",
       "    <tr>\n",
       "      <th>4</th>\n",
       "      <td>Month-5</td>\n",
       "      <td>Region - C</td>\n",
       "      <td>Manager - B</td>\n",
       "      <td>159525</td>\n",
       "      <td>258402</td>\n",
       "    </tr>\n",
       "  </tbody>\n",
       "</table>\n",
       "</div>"
      ],
      "text/plain": [
       "     Month      Region      Manager  Sales_before_digital_add(in $)  \\\n",
       "0  Month-1  Region - A  Manager - A                          132921   \n",
       "1  Month-2  Region - A  Manager - C                          149559   \n",
       "2  Month-3  Region - B  Manager - A                          146278   \n",
       "3  Month-4  Region - B  Manager - B                          152167   \n",
       "4  Month-5  Region - C  Manager - B                          159525   \n",
       "\n",
       "   Sales_After_digital_add(in $)  \n",
       "0                         270390  \n",
       "1                         223334  \n",
       "2                         244243  \n",
       "3                         231808  \n",
       "4                         258402  "
      ]
     },
     "execution_count": 2,
     "metadata": {},
     "output_type": "execute_result"
    }
   ],
   "source": [
    "df=pd.read_csv('Sales_add.csv')\n",
    "df.head()"
   ]
  },
  {
   "cell_type": "code",
   "execution_count": 3,
   "id": "2abcc6cf",
   "metadata": {
    "scrolled": true
   },
   "outputs": [
    {
     "data": {
      "text/plain": [
       "(22, 5)"
      ]
     },
     "execution_count": 3,
     "metadata": {},
     "output_type": "execute_result"
    }
   ],
   "source": [
    "df.shape"
   ]
  },
  {
   "cell_type": "code",
   "execution_count": 4,
   "id": "774a3235",
   "metadata": {
    "scrolled": true
   },
   "outputs": [
    {
     "data": {
      "text/plain": [
       "Month                             False\n",
       "Region                            False\n",
       "Manager                           False\n",
       "Sales_before_digital_add(in $)    False\n",
       "Sales_After_digital_add(in $)     False\n",
       "dtype: bool"
      ]
     },
     "execution_count": 4,
     "metadata": {},
     "output_type": "execute_result"
    }
   ],
   "source": [
    "df.isna().any()"
   ]
  },
  {
   "cell_type": "code",
   "execution_count": 5,
   "id": "118fd397",
   "metadata": {},
   "outputs": [
    {
     "name": "stdout",
     "output_type": "stream",
     "text": [
      "<class 'pandas.core.frame.DataFrame'>\n",
      "RangeIndex: 22 entries, 0 to 21\n",
      "Data columns (total 5 columns):\n",
      " #   Column                          Non-Null Count  Dtype \n",
      "---  ------                          --------------  ----- \n",
      " 0   Month                           22 non-null     object\n",
      " 1   Region                          22 non-null     object\n",
      " 2   Manager                         22 non-null     object\n",
      " 3   Sales_before_digital_add(in $)  22 non-null     int64 \n",
      " 4   Sales_After_digital_add(in $)   22 non-null     int64 \n",
      "dtypes: int64(2), object(3)\n",
      "memory usage: 1008.0+ bytes\n"
     ]
    }
   ],
   "source": [
    "df.info()"
   ]
  },
  {
   "cell_type": "code",
   "execution_count": 6,
   "id": "61ac0131",
   "metadata": {},
   "outputs": [
    {
     "data": {
      "text/html": [
       "<div>\n",
       "<style scoped>\n",
       "    .dataframe tbody tr th:only-of-type {\n",
       "        vertical-align: middle;\n",
       "    }\n",
       "\n",
       "    .dataframe tbody tr th {\n",
       "        vertical-align: top;\n",
       "    }\n",
       "\n",
       "    .dataframe thead th {\n",
       "        text-align: right;\n",
       "    }\n",
       "</style>\n",
       "<table border=\"1\" class=\"dataframe\">\n",
       "  <thead>\n",
       "    <tr style=\"text-align: right;\">\n",
       "      <th></th>\n",
       "      <th>Sales_before_digital_add(in $)</th>\n",
       "      <th>Sales_After_digital_add(in $)</th>\n",
       "    </tr>\n",
       "  </thead>\n",
       "  <tbody>\n",
       "    <tr>\n",
       "      <th>count</th>\n",
       "      <td>22.000000</td>\n",
       "      <td>22.000000</td>\n",
       "    </tr>\n",
       "    <tr>\n",
       "      <th>mean</th>\n",
       "      <td>149239.954545</td>\n",
       "      <td>231123.727273</td>\n",
       "    </tr>\n",
       "    <tr>\n",
       "      <th>std</th>\n",
       "      <td>14844.042921</td>\n",
       "      <td>25556.777061</td>\n",
       "    </tr>\n",
       "    <tr>\n",
       "      <th>min</th>\n",
       "      <td>130263.000000</td>\n",
       "      <td>187305.000000</td>\n",
       "    </tr>\n",
       "    <tr>\n",
       "      <th>25%</th>\n",
       "      <td>138087.750000</td>\n",
       "      <td>214960.750000</td>\n",
       "    </tr>\n",
       "    <tr>\n",
       "      <th>50%</th>\n",
       "      <td>147444.000000</td>\n",
       "      <td>229986.500000</td>\n",
       "    </tr>\n",
       "    <tr>\n",
       "      <th>75%</th>\n",
       "      <td>157627.500000</td>\n",
       "      <td>250909.000000</td>\n",
       "    </tr>\n",
       "    <tr>\n",
       "      <th>max</th>\n",
       "      <td>178939.000000</td>\n",
       "      <td>276279.000000</td>\n",
       "    </tr>\n",
       "  </tbody>\n",
       "</table>\n",
       "</div>"
      ],
      "text/plain": [
       "       Sales_before_digital_add(in $)  Sales_After_digital_add(in $)\n",
       "count                       22.000000                      22.000000\n",
       "mean                    149239.954545                  231123.727273\n",
       "std                      14844.042921                   25556.777061\n",
       "min                     130263.000000                  187305.000000\n",
       "25%                     138087.750000                  214960.750000\n",
       "50%                     147444.000000                  229986.500000\n",
       "75%                     157627.500000                  250909.000000\n",
       "max                     178939.000000                  276279.000000"
      ]
     },
     "execution_count": 6,
     "metadata": {},
     "output_type": "execute_result"
    }
   ],
   "source": [
    "df.describe()"
   ]
  },
  {
   "cell_type": "markdown",
   "id": "2d527201",
   "metadata": {},
   "source": [
    "# The company wishes to clarify whether there is any increase in sales after stepping into digital marketing."
   ]
  },
  {
   "cell_type": "code",
   "execution_count": 7,
   "id": "3b45760c",
   "metadata": {},
   "outputs": [
    {
     "data": {
      "image/png": "[encoded data removed]",
      "text/plain": [
       "<Figure size 432x288 with 1 Axes>"
      ]
     },
     "metadata": {
      "needs_background": "light"
     },
     "output_type": "display_data"
    },
    {
     "data": {
      "text/plain": [
       "<Figure size 432x288 with 0 Axes>"
      ]
     },
     "metadata": {},
     "output_type": "display_data"
    }
   ],
   "source": [
    "plt.boxplot(df[['Sales_before_digital_add(in $)','Sales_After_digital_add(in $)']],labels=('Before','After'))\n",
    "plt.title('Before and After sales')\n",
    "plt.show()\n",
    "plt.tight_layout()"
   ]
  },
  {
   "cell_type": "markdown",
   "id": "d75b1eda",
   "metadata": {},
   "source": [
    "it can be seen from the graph that there is a difference in total sales before and after digital marketing"
   ]
  },
  {
   "cell_type": "markdown",
   "id": "70ea64cf",
   "metadata": {},
   "source": [
    "# one tailed T test"
   ]
  },
  {
   "cell_type": "code",
   "execution_count": 8,
   "id": "7242d61f",
   "metadata": {},
   "outputs": [],
   "source": [
    "#set the hypothesis\n",
    "# Null Hypothesis,H0:there isn't an increase in sales stepping into digital marketing\n",
    "#Alternate Hypothesis,Ha:there is an increase in sales stepping into digital marketing"
   ]
  },
  {
   "cell_type": "code",
   "execution_count": 9,
   "id": "838a4a4f",
   "metadata": {},
   "outputs": [],
   "source": [
    "# import ttest module\n",
    "from scipy.stats import ttest_ind"
   ]
  },
  {
   "cell_type": "code",
   "execution_count": 10,
   "id": "c225dc38",
   "metadata": {},
   "outputs": [],
   "source": [
    "alpha=0.05\n",
    "Sales_before_digital=df['Sales_before_digital_add(in $)']\n",
    "Sales_After_digital=df['Sales_After_digital_add(in $)']"
   ]
  },
  {
   "cell_type": "code",
   "execution_count": 11,
   "id": "fc0e5fe0",
   "metadata": {},
   "outputs": [
    {
     "name": "stdout",
     "output_type": "stream",
     "text": [
      "p value: 2.614368006904645e-16\n",
      "Reject the Null Hypothesis,H0\n"
     ]
    }
   ],
   "source": [
    "_,p=ttest_ind(Sales_before_digital,Sales_After_digital)\n",
    "print('p value:',p)\n",
    "if p> alpha:\n",
    "    print ('Fail to reject the Null Hypothesis,H0')\n",
    "else:\n",
    "    print('Reject the Null Hypothesis,H0')"
   ]
  },
  {
   "cell_type": "markdown",
   "id": "6ae1c371",
   "metadata": {},
   "source": [
    "we can conclude that there is an increase in sales stepping into digital marketing"
   ]
  },
  {
   "cell_type": "markdown",
   "id": "b94e86f0",
   "metadata": {},
   "source": [
    "# The company needs to check whether there is any dependency between the features “Region” and “Manager”.  "
   ]
  },
  {
   "cell_type": "code",
   "execution_count": 12,
   "id": "c0ae0a92",
   "metadata": {
    "scrolled": true
   },
   "outputs": [
    {
     "data": {
      "text/plain": [
       "Region - A    10\n",
       "Region - B     7\n",
       "Region - C     5\n",
       "Name: Region, dtype: int64"
      ]
     },
     "execution_count": 12,
     "metadata": {},
     "output_type": "execute_result"
    }
   ],
   "source": [
    "df['Region'].value_counts()"
   ]
  },
  {
   "cell_type": "code",
   "execution_count": 13,
   "id": "3995f597",
   "metadata": {},
   "outputs": [
    {
     "data": {
      "text/html": [
       "<div>\n",
       "<style scoped>\n",
       "    .dataframe tbody tr th:only-of-type {\n",
       "        vertical-align: middle;\n",
       "    }\n",
       "\n",
       "    .dataframe tbody tr th {\n",
       "        vertical-align: top;\n",
       "    }\n",
       "\n",
       "    .dataframe thead th {\n",
       "        text-align: right;\n",
       "    }\n",
       "</style>\n",
       "<table border=\"1\" class=\"dataframe\">\n",
       "  <thead>\n",
       "    <tr style=\"text-align: right;\">\n",
       "      <th></th>\n",
       "      <th>Month</th>\n",
       "      <th>Region</th>\n",
       "      <th>Manager</th>\n",
       "    </tr>\n",
       "  </thead>\n",
       "  <tbody>\n",
       "    <tr>\n",
       "      <th>count</th>\n",
       "      <td>22</td>\n",
       "      <td>22</td>\n",
       "      <td>22</td>\n",
       "    </tr>\n",
       "    <tr>\n",
       "      <th>unique</th>\n",
       "      <td>22</td>\n",
       "      <td>3</td>\n",
       "      <td>3</td>\n",
       "    </tr>\n",
       "    <tr>\n",
       "      <th>top</th>\n",
       "      <td>Month-1</td>\n",
       "      <td>Region - A</td>\n",
       "      <td>Manager - A</td>\n",
       "    </tr>\n",
       "    <tr>\n",
       "      <th>freq</th>\n",
       "      <td>1</td>\n",
       "      <td>10</td>\n",
       "      <td>9</td>\n",
       "    </tr>\n",
       "  </tbody>\n",
       "</table>\n",
       "</div>"
      ],
      "text/plain": [
       "          Month      Region      Manager\n",
       "count        22          22           22\n",
       "unique       22           3            3\n",
       "top     Month-1  Region - A  Manager - A\n",
       "freq          1          10            9"
      ]
     },
     "execution_count": 13,
     "metadata": {},
     "output_type": "execute_result"
    }
   ],
   "source": [
    "df.describe(include=object)"
   ]
  },
  {
   "cell_type": "code",
   "execution_count": 14,
   "id": "ad8a6bb9",
   "metadata": {},
   "outputs": [
    {
     "data": {
      "text/html": [
       "<div>\n",
       "<style scoped>\n",
       "    .dataframe tbody tr th:only-of-type {\n",
       "        vertical-align: middle;\n",
       "    }\n",
       "\n",
       "    .dataframe tbody tr th {\n",
       "        vertical-align: top;\n",
       "    }\n",
       "\n",
       "    .dataframe thead tr th {\n",
       "        text-align: left;\n",
       "    }\n",
       "\n",
       "    .dataframe thead tr:last-of-type th {\n",
       "        text-align: right;\n",
       "    }\n",
       "</style>\n",
       "<table border=\"1\" class=\"dataframe\">\n",
       "  <thead>\n",
       "    <tr>\n",
       "      <th></th>\n",
       "      <th></th>\n",
       "      <th colspan=\"8\" halign=\"left\">Sales_before_digital_add(in $)</th>\n",
       "      <th colspan=\"8\" halign=\"left\">Sales_After_digital_add(in $)</th>\n",
       "    </tr>\n",
       "    <tr>\n",
       "      <th></th>\n",
       "      <th></th>\n",
       "      <th>count</th>\n",
       "      <th>mean</th>\n",
       "      <th>std</th>\n",
       "      <th>min</th>\n",
       "      <th>25%</th>\n",
       "      <th>50%</th>\n",
       "      <th>75%</th>\n",
       "      <th>max</th>\n",
       "      <th>count</th>\n",
       "      <th>mean</th>\n",
       "      <th>std</th>\n",
       "      <th>min</th>\n",
       "      <th>25%</th>\n",
       "      <th>50%</th>\n",
       "      <th>75%</th>\n",
       "      <th>max</th>\n",
       "    </tr>\n",
       "    <tr>\n",
       "      <th>Region</th>\n",
       "      <th>Manager</th>\n",
       "      <th></th>\n",
       "      <th></th>\n",
       "      <th></th>\n",
       "      <th></th>\n",
       "      <th></th>\n",
       "      <th></th>\n",
       "      <th></th>\n",
       "      <th></th>\n",
       "      <th></th>\n",
       "      <th></th>\n",
       "      <th></th>\n",
       "      <th></th>\n",
       "      <th></th>\n",
       "      <th></th>\n",
       "      <th></th>\n",
       "      <th></th>\n",
       "    </tr>\n",
       "  </thead>\n",
       "  <tbody>\n",
       "    <tr>\n",
       "      <th rowspan=\"3\" valign=\"top\">Region - A</th>\n",
       "      <th>Manager - A</th>\n",
       "      <td>4.0</td>\n",
       "      <td>148628.500000</td>\n",
       "      <td>22208.299567</td>\n",
       "      <td>131140.0</td>\n",
       "      <td>132475.75</td>\n",
       "      <td>142217.5</td>\n",
       "      <td>158370.25</td>\n",
       "      <td>178939.0</td>\n",
       "      <td>4.0</td>\n",
       "      <td>257609.250000</td>\n",
       "      <td>20489.543095</td>\n",
       "      <td>230637.0</td>\n",
       "      <td>247507.5</td>\n",
       "      <td>261760.5</td>\n",
       "      <td>271862.25</td>\n",
       "      <td>276279.0</td>\n",
       "    </tr>\n",
       "    <tr>\n",
       "      <th>Manager - B</th>\n",
       "      <td>3.0</td>\n",
       "      <td>155617.000000</td>\n",
       "      <td>20198.014457</td>\n",
       "      <td>137163.0</td>\n",
       "      <td>144828.00</td>\n",
       "      <td>152493.0</td>\n",
       "      <td>164844.00</td>\n",
       "      <td>177195.0</td>\n",
       "      <td>3.0</td>\n",
       "      <td>218944.000000</td>\n",
       "      <td>35255.095816</td>\n",
       "      <td>187305.0</td>\n",
       "      <td>199942.0</td>\n",
       "      <td>212579.0</td>\n",
       "      <td>234763.50</td>\n",
       "      <td>256948.0</td>\n",
       "    </tr>\n",
       "    <tr>\n",
       "      <th>Manager - C</th>\n",
       "      <td>3.0</td>\n",
       "      <td>140228.000000</td>\n",
       "      <td>9663.610661</td>\n",
       "      <td>130263.0</td>\n",
       "      <td>135562.50</td>\n",
       "      <td>140862.0</td>\n",
       "      <td>145210.50</td>\n",
       "      <td>149559.0</td>\n",
       "      <td>3.0</td>\n",
       "      <td>233754.000000</td>\n",
       "      <td>9893.605814</td>\n",
       "      <td>223334.0</td>\n",
       "      <td>229121.0</td>\n",
       "      <td>234908.0</td>\n",
       "      <td>238964.00</td>\n",
       "      <td>243020.0</td>\n",
       "    </tr>\n",
       "    <tr>\n",
       "      <th rowspan=\"3\" valign=\"top\">Region - B</th>\n",
       "      <th>Manager - A</th>\n",
       "      <td>4.0</td>\n",
       "      <td>142725.000000</td>\n",
       "      <td>7125.622265</td>\n",
       "      <td>132135.0</td>\n",
       "      <td>141830.25</td>\n",
       "      <td>145670.0</td>\n",
       "      <td>146564.75</td>\n",
       "      <td>147425.0</td>\n",
       "      <td>4.0</td>\n",
       "      <td>234962.750000</td>\n",
       "      <td>24791.800007</td>\n",
       "      <td>205180.0</td>\n",
       "      <td>221575.0</td>\n",
       "      <td>235641.5</td>\n",
       "      <td>249029.25</td>\n",
       "      <td>263388.0</td>\n",
       "    </tr>\n",
       "    <tr>\n",
       "      <th>Manager - B</th>\n",
       "      <td>1.0</td>\n",
       "      <td>152167.000000</td>\n",
       "      <td>NaN</td>\n",
       "      <td>152167.0</td>\n",
       "      <td>152167.00</td>\n",
       "      <td>152167.0</td>\n",
       "      <td>152167.00</td>\n",
       "      <td>152167.0</td>\n",
       "      <td>1.0</td>\n",
       "      <td>231808.000000</td>\n",
       "      <td>NaN</td>\n",
       "      <td>231808.0</td>\n",
       "      <td>231808.0</td>\n",
       "      <td>231808.0</td>\n",
       "      <td>231808.00</td>\n",
       "      <td>231808.0</td>\n",
       "    </tr>\n",
       "    <tr>\n",
       "      <th>Manager - C</th>\n",
       "      <td>2.0</td>\n",
       "      <td>165299.000000</td>\n",
       "      <td>8428.712832</td>\n",
       "      <td>159339.0</td>\n",
       "      <td>162319.00</td>\n",
       "      <td>165299.0</td>\n",
       "      <td>168279.00</td>\n",
       "      <td>171259.0</td>\n",
       "      <td>2.0</td>\n",
       "      <td>214718.000000</td>\n",
       "      <td>16324.267150</td>\n",
       "      <td>203175.0</td>\n",
       "      <td>208946.5</td>\n",
       "      <td>214718.0</td>\n",
       "      <td>220489.50</td>\n",
       "      <td>226261.0</td>\n",
       "    </tr>\n",
       "    <tr>\n",
       "      <th rowspan=\"3\" valign=\"top\">Region - C</th>\n",
       "      <th>Manager - A</th>\n",
       "      <td>1.0</td>\n",
       "      <td>147463.000000</td>\n",
       "      <td>NaN</td>\n",
       "      <td>147463.0</td>\n",
       "      <td>147463.00</td>\n",
       "      <td>147463.0</td>\n",
       "      <td>147463.00</td>\n",
       "      <td>147463.0</td>\n",
       "      <td>1.0</td>\n",
       "      <td>229336.000000</td>\n",
       "      <td>NaN</td>\n",
       "      <td>229336.0</td>\n",
       "      <td>229336.0</td>\n",
       "      <td>229336.0</td>\n",
       "      <td>229336.00</td>\n",
       "      <td>229336.0</td>\n",
       "    </tr>\n",
       "    <tr>\n",
       "      <th>Manager - B</th>\n",
       "      <td>3.0</td>\n",
       "      <td>156492.333333</td>\n",
       "      <td>13282.251328</td>\n",
       "      <td>141956.0</td>\n",
       "      <td>150740.50</td>\n",
       "      <td>159525.0</td>\n",
       "      <td>163760.50</td>\n",
       "      <td>167996.0</td>\n",
       "      <td>3.0</td>\n",
       "      <td>214551.333333</td>\n",
       "      <td>37991.980816</td>\n",
       "      <td>191517.0</td>\n",
       "      <td>192626.0</td>\n",
       "      <td>193735.0</td>\n",
       "      <td>226068.50</td>\n",
       "      <td>258402.0</td>\n",
       "    </tr>\n",
       "    <tr>\n",
       "      <th>Manager - C</th>\n",
       "      <td>1.0</td>\n",
       "      <td>130625.000000</td>\n",
       "      <td>NaN</td>\n",
       "      <td>130625.0</td>\n",
       "      <td>130625.00</td>\n",
       "      <td>130625.0</td>\n",
       "      <td>130625.00</td>\n",
       "      <td>130625.0</td>\n",
       "      <td>1.0</td>\n",
       "      <td>222106.000000</td>\n",
       "      <td>NaN</td>\n",
       "      <td>222106.0</td>\n",
       "      <td>222106.0</td>\n",
       "      <td>222106.0</td>\n",
       "      <td>222106.00</td>\n",
       "      <td>222106.0</td>\n",
       "    </tr>\n",
       "  </tbody>\n",
       "</table>\n",
       "</div>"
      ],
      "text/plain": [
       "                       Sales_before_digital_add(in $)                 \\\n",
       "                                                count           mean   \n",
       "Region     Manager                                                     \n",
       "Region - A Manager - A                            4.0  148628.500000   \n",
       "           Manager - B                            3.0  155617.000000   \n",
       "           Manager - C                            3.0  140228.000000   \n",
       "Region - B Manager - A                            4.0  142725.000000   \n",
       "           Manager - B                            1.0  152167.000000   \n",
       "           Manager - C                            2.0  165299.000000   \n",
       "Region - C Manager - A                            1.0  147463.000000   \n",
       "           Manager - B                            3.0  156492.333333   \n",
       "           Manager - C                            1.0  130625.000000   \n",
       "\n",
       "                                                                     \\\n",
       "                                 std       min        25%       50%   \n",
       "Region     Manager                                                    \n",
       "Region - A Manager - A  22208.299567  131140.0  132475.75  142217.5   \n",
       "           Manager - B  20198.014457  137163.0  144828.00  152493.0   \n",
       "           Manager - C   9663.610661  130263.0  135562.50  140862.0   \n",
       "Region - B Manager - A   7125.622265  132135.0  141830.25  145670.0   \n",
       "           Manager - B           NaN  152167.0  152167.00  152167.0   \n",
       "           Manager - C   8428.712832  159339.0  162319.00  165299.0   \n",
       "Region - C Manager - A           NaN  147463.0  147463.00  147463.0   \n",
       "           Manager - B  13282.251328  141956.0  150740.50  159525.0   \n",
       "           Manager - C           NaN  130625.0  130625.00  130625.0   \n",
       "\n",
       "                                            Sales_After_digital_add(in $)  \\\n",
       "                              75%       max                         count   \n",
       "Region     Manager                                                          \n",
       "Region - A Manager - A  158370.25  178939.0                           4.0   \n",
       "           Manager - B  164844.00  177195.0                           3.0   \n",
       "           Manager - C  145210.50  149559.0                           3.0   \n",
       "Region - B Manager - A  146564.75  147425.0                           4.0   \n",
       "           Manager - B  152167.00  152167.0                           1.0   \n",
       "           Manager - C  168279.00  171259.0                           2.0   \n",
       "Region - C Manager - A  147463.00  147463.0                           1.0   \n",
       "           Manager - B  163760.50  167996.0                           3.0   \n",
       "           Manager - C  130625.00  130625.0                           1.0   \n",
       "\n",
       "                                                                         \\\n",
       "                                 mean           std       min       25%   \n",
       "Region     Manager                                                        \n",
       "Region - A Manager - A  257609.250000  20489.543095  230637.0  247507.5   \n",
       "           Manager - B  218944.000000  35255.095816  187305.0  199942.0   \n",
       "           Manager - C  233754.000000   9893.605814  223334.0  229121.0   \n",
       "Region - B Manager - A  234962.750000  24791.800007  205180.0  221575.0   \n",
       "           Manager - B  231808.000000           NaN  231808.0  231808.0   \n",
       "           Manager - C  214718.000000  16324.267150  203175.0  208946.5   \n",
       "Region - C Manager - A  229336.000000           NaN  229336.0  229336.0   \n",
       "           Manager - B  214551.333333  37991.980816  191517.0  192626.0   \n",
       "           Manager - C  222106.000000           NaN  222106.0  222106.0   \n",
       "\n",
       "                                                       \n",
       "                             50%        75%       max  \n",
       "Region     Manager                                     \n",
       "Region - A Manager - A  261760.5  271862.25  276279.0  \n",
       "           Manager - B  212579.0  234763.50  256948.0  \n",
       "           Manager - C  234908.0  238964.00  243020.0  \n",
       "Region - B Manager - A  235641.5  249029.25  263388.0  \n",
       "           Manager - B  231808.0  231808.00  231808.0  \n",
       "           Manager - C  214718.0  220489.50  226261.0  \n",
       "Region - C Manager - A  229336.0  229336.00  229336.0  \n",
       "           Manager - B  193735.0  226068.50  258402.0  \n",
       "           Manager - C  222106.0  222106.00  222106.0  "
      ]
     },
     "execution_count": 14,
     "metadata": {},
     "output_type": "execute_result"
    }
   ],
   "source": [
    "df.groupby(['Region','Manager']).describe()"
   ]
  },
  {
   "cell_type": "code",
   "execution_count": 15,
   "id": "170b236b",
   "metadata": {},
   "outputs": [
    {
     "data": {
      "text/plain": [
       "<matplotlib.legend.Legend at 0x1f0daac4a90>"
      ]
     },
     "execution_count": 15,
     "metadata": {},
     "output_type": "execute_result"
    },
    {
     "data": {
      "image/png": "[encoded data removed]",
      "text/plain": [
       "<Figure size 432x288 with 1 Axes>"
      ]
     },
     "metadata": {
      "needs_background": "light"
     },
     "output_type": "display_data"
    }
   ],
   "source": [
    "sns.countplot(data=df,x='Region',hue='Manager')\n",
    "plt.legend(loc=(1.02,0))"
   ]
  },
  {
   "cell_type": "markdown",
   "id": "cc6f94c8",
   "metadata": {},
   "source": [
    "from the dataset it is clear that Managers A B and C has worked for all three regions for different months also it was chosen random"
   ]
  },
  {
   "cell_type": "markdown",
   "id": "e747883e",
   "metadata": {},
   "source": [
    "# Chi Square Test for independence "
   ]
  },
  {
   "cell_type": "code",
   "execution_count": 16,
   "id": "e0eef6b9",
   "metadata": {},
   "outputs": [],
   "source": [
    "#set the hypothesis\n",
    "# Null Hypothesis,H0:there is no dependency between the features “Region” and “Manager”.\n",
    "#Alternate Hypothesis,Ha: there is dependency between the features “Region” and “Manager”."
   ]
  },
  {
   "cell_type": "code",
   "execution_count": 17,
   "id": "cadbebaa",
   "metadata": {},
   "outputs": [],
   "source": [
    "#import chi square module\n",
    "from scipy.stats import chi2_contingency"
   ]
  },
  {
   "cell_type": "code",
   "execution_count": 18,
   "id": "e6ac14de",
   "metadata": {},
   "outputs": [
    {
     "data": {
      "text/html": [
       "<div>\n",
       "<style scoped>\n",
       "    .dataframe tbody tr th:only-of-type {\n",
       "        vertical-align: middle;\n",
       "    }\n",
       "\n",
       "    .dataframe tbody tr th {\n",
       "        vertical-align: top;\n",
       "    }\n",
       "\n",
       "    .dataframe thead th {\n",
       "        text-align: right;\n",
       "    }\n",
       "</style>\n",
       "<table border=\"1\" class=\"dataframe\">\n",
       "  <thead>\n",
       "    <tr style=\"text-align: right;\">\n",
       "      <th>Manager</th>\n",
       "      <th>Manager - A</th>\n",
       "      <th>Manager - B</th>\n",
       "      <th>Manager - C</th>\n",
       "    </tr>\n",
       "    <tr>\n",
       "      <th>Region</th>\n",
       "      <th></th>\n",
       "      <th></th>\n",
       "      <th></th>\n",
       "    </tr>\n",
       "  </thead>\n",
       "  <tbody>\n",
       "    <tr>\n",
       "      <th>Region - A</th>\n",
       "      <td>4</td>\n",
       "      <td>3</td>\n",
       "      <td>3</td>\n",
       "    </tr>\n",
       "    <tr>\n",
       "      <th>Region - B</th>\n",
       "      <td>4</td>\n",
       "      <td>1</td>\n",
       "      <td>2</td>\n",
       "    </tr>\n",
       "    <tr>\n",
       "      <th>Region - C</th>\n",
       "      <td>1</td>\n",
       "      <td>3</td>\n",
       "      <td>1</td>\n",
       "    </tr>\n",
       "  </tbody>\n",
       "</table>\n",
       "</div>"
      ],
      "text/plain": [
       "Manager     Manager - A  Manager - B  Manager - C\n",
       "Region                                           \n",
       "Region - A            4            3            3\n",
       "Region - B            4            1            2\n",
       "Region - C            1            3            1"
      ]
     },
     "execution_count": 18,
     "metadata": {},
     "output_type": "execute_result"
    }
   ],
   "source": [
    "#find contingency table\n",
    "table=pd.crosstab(df['Region'],df['Manager'])\n",
    "table"
   ]
  },
  {
   "cell_type": "code",
   "execution_count": 19,
   "id": "884301c5",
   "metadata": {},
   "outputs": [],
   "source": [
    "alpha=0.05"
   ]
  },
  {
   "cell_type": "code",
   "execution_count": 20,
   "id": "63020270",
   "metadata": {},
   "outputs": [
    {
     "name": "stdout",
     "output_type": "stream",
     "text": [
      "p value: 0.5493991051158094\n",
      "fail to reject the Null Hypothesis,H0\n"
     ]
    }
   ],
   "source": [
    "stat,p,dof,expected=chi2_contingency(table)\n",
    "print('p value:',p)\n",
    "if p> alpha:\n",
    "    print ('fail to reject the Null Hypothesis,H0')\n",
    "else:\n",
    "    print('Reject the Null Hypothesis,H0')"
   ]
  },
  {
   "cell_type": "markdown",
   "id": "fc0af624",
   "metadata": {},
   "source": [
    "so we can conclude that there is no dependency between Region and Manager"
   ]
  }
 ],
 "metadata": {
  "kernelspec": {
   "display_name": "Python 3 (ipykernel)",
   "language": "python",
   "name": "python3"
  },
  "language_info": {
   "codemirror_mode": {
    "name": "ipython",
    "version": 3
   },
   "file_extension": ".py",
   "mimetype": "text/x-python",
   "name": "python",
   "nbconvert_exporter": "python",
   "pygments_lexer": "ipython3",
   "version": "3.9.12"
  }
 },
 "nbformat": 4,
 "nbformat_minor": 5
}
